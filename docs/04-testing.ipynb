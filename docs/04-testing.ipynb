{
 "cells": [
  {
   "cell_type": "markdown",
   "metadata": {},
   "source": [
    "Code <span class=\"caret\"></span>\n",
    "\n",
    "-   <a href=\"#\" id=\"rmd-show-all-code\">Show All Code</a>\n",
    "-   <a href=\"#\" id=\"rmd-hide-all-code\">Hide All Code</a>\n",
    "-   \n",
    "-   <a href=\"#\" id=\"rmd-download-source\">Download Rmd</a>\n",
    "\n",
    "# Classification: Adam Test\n",
    "\n",
    "``` python\n",
    "import pandas as pd\n",
    "print(pd.__version__)\n",
    "```\n",
    "\n",
    "    2.2.3\n",
    "\n",
    "``` python\n",
    "print(\"Hello, Python!\")\n",
    "```\n",
    "\n",
    "    Hello, Python!\n",
    "\n",
    "LS0tCnRpdGxlOiAiQ2xhc3NpZmljYXRpb246IEFkYW0gVGVzdCIKdGVhY2hpbmc6IDEwCmV4ZXJjaXNlczogMgotLS0KCmBgYHtweXRob259CmltcG9ydCBwYW5kYXMgYXMgcGQKcHJpbnQocGQuX192ZXJzaW9uX18pCgpwcmludCgiSGVsbG8sIFB5dGhvbiEiKQpgYGA="
   ],
   "id": "fd00de8e-81be-41ff-b1be-a5e7b3803d04"
  }
 ],
 "nbformat": 4,
 "nbformat_minor": 5,
 "metadata": {}
}
